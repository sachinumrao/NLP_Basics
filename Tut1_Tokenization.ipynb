{
 "cells": [
  {
   "cell_type": "markdown",
   "metadata": {},
   "source": [
    "# Tokenization\n",
    "\n",
    "Divide text into smaller aprts.\n",
    "\n",
    "## Word Tokenization: \n",
    "Divide text into words\n",
    "\n",
    "## Sentence Tokenization:\n",
    "Divide text into sentences"
   ]
  },
  {
   "cell_type": "markdown",
   "metadata": {},
   "source": [
    "# ---------------------------------------------------------------------------------------\n",
    "## Tokenization using Spacy"
   ]
  },
  {
   "cell_type": "code",
   "execution_count": 1,
   "metadata": {},
   "outputs": [],
   "source": [
    "import spacy\n",
    "nlp = spacy.load('en')"
   ]
  },
  {
   "cell_type": "code",
   "execution_count": 19,
   "metadata": {},
   "outputs": [],
   "source": [
    "story = \"\"\"\n",
    "Once when a lion, the king of the jungle, was asleep, a little mouse began running up and down on him. This soon awakened the lion, who placed his huge paw on the mouse, and opened his big jaws to swallow him.\n",
    "\n",
    "\"Pardon, O King!\" cried the little mouse. \"Forgive me this time. I shall never repeat it and I shall never forget your kindness. And who knows, I may be able to do you a good turn one of these days!”\n",
    "\n",
    "The lion was so tickled by the idea of the mouse being able to help him that he lifted his paw and let him go.\n",
    "\n",
    "Sometime later, a few hunters captured the lion, and tied him to a tree. After that they went in search of a wagon, to take him to the zoo.\n",
    "\n",
    "Just then the little mouse happened to pass by. On seeing the lion’s plight, he ran up to him and gnawed away the ropes that bound him, the king of the jungle.\n",
    "\n",
    "\"Was I not right?\" said the little mouse, very happy to help the lion.\n",
    "\"\"\""
   ]
  },
  {
   "cell_type": "code",
   "execution_count": 20,
   "metadata": {},
   "outputs": [
    {
     "name": "stdout",
     "output_type": "stream",
     "text": [
      "Story: \n",
      "Once when a lion, the king of the jungle, was asleep, a little mouse began running up and down on him. This soon awakened the lion, who placed his huge paw on the mouse, and opened his big jaws to swallow him.\n",
      "\n",
      "\"Pardon, O King!\" cried the little mouse. \"Forgive me this time. I shall never repeat it and I shall never forget your kindness. And who knows, I may be able to do you a good turn one of these days!”\n",
      "\n",
      "The lion was so tickled by the idea of the mouse being able to help him that he lifted his paw and let him go.\n",
      "\n",
      "Sometime later, a few hunters captured the lion, and tied him to a tree. After that they went in search of a wagon, to take him to the zoo.\n",
      "\n",
      "Just then the little mouse happened to pass by. On seeing the lion’s plight, he ran up to him and gnawed away the ropes that bound him, the king of the jungle.\n",
      "\n",
      "\"Was I not right?\" said the little mouse, very happy to help the lion.\n",
      "\n",
      "\n",
      "['\\n', 'Once', 'when', 'a', 'lion', ',', 'the', 'king', 'of', 'the', 'jungle', ',', 'was', 'asleep', ',', 'a', 'little', 'mouse', 'began', 'running', 'up', 'and', 'down', 'on', 'him', '.', 'This', 'soon', 'awakened', 'the', 'lion', ',', 'who', 'placed', 'his', 'huge', 'paw', 'on', 'the', 'mouse', ',', 'and', 'opened', 'his', 'big', 'jaws', 'to', 'swallow', 'him', '.', '\\n\\n', '\"', 'Pardon', ',', 'O', 'King', '!', '\"', 'cried', 'the', 'little', 'mouse', '.', '\"', 'Forgive', 'me', 'this', 'time', '.', 'I', 'shall', 'never', 'repeat', 'it', 'and', 'I', 'shall', 'never', 'forget', 'your', 'kindness', '.', 'And', 'who', 'knows', ',', 'I', 'may', 'be', 'able', 'to', 'do', 'you', 'a', 'good', 'turn', 'one', 'of', 'these', 'days', '!', '”', '\\n\\n', 'The', 'lion', 'was', 'so', 'tickled', 'by', 'the', 'idea', 'of', 'the', 'mouse', 'being', 'able', 'to', 'help', 'him', 'that', 'he', 'lifted', 'his', 'paw', 'and', 'let', 'him', 'go', '.', '\\n\\n', 'Sometime', 'later', ',', 'a', 'few', 'hunters', 'captured', 'the', 'lion', ',', 'and', 'tied', 'him', 'to', 'a', 'tree', '.', 'After', 'that', 'they', 'went', 'in', 'search', 'of', 'a', 'wagon', ',', 'to', 'take', 'him', 'to', 'the', 'zoo', '.', '\\n\\n', 'Just', 'then', 'the', 'little', 'mouse', 'happened', 'to', 'pass', 'by', '.', 'On', 'seeing', 'the', 'lion', '’s', 'plight', ',', 'he', 'ran', 'up', 'to', 'him', 'and', 'gnawed', 'away', 'the', 'ropes', 'that', 'bound', 'him', ',', 'the', 'king', 'of', 'the', 'jungle', '.', '\\n\\n', '\"', 'Was', 'I', 'not', 'right', '?', '\"', 'said', 'the', 'little', 'mouse', ',', 'very', 'happy', 'to', 'help', 'the', 'lion', '.', '\\n']\n"
     ]
    }
   ],
   "source": [
    "doc = nlp(story)\n",
    "word_tokens = [token.text for token in doc]\n",
    "print('Story: %s' % (story))\n",
    "print()\n",
    "print(word_tokens)"
   ]
  },
  {
   "cell_type": "markdown",
   "metadata": {},
   "source": [
    "### Word Tokenization with NLTK and regular expression \n",
    "Also filters punctuation marks"
   ]
  },
  {
   "cell_type": "code",
   "execution_count": 21,
   "metadata": {},
   "outputs": [],
   "source": [
    "from nltk.tokenize import RegexpTokenizer\n",
    "\n",
    "def regex_tokenizer(text):\n",
    "\n",
    "    tokenizer = RegexpTokenizer(r'\\w+')\n",
    "    word_list = tokenizer.tokenize(text)\n",
    "    \n",
    "    return word_list"
   ]
  },
  {
   "cell_type": "code",
   "execution_count": 22,
   "metadata": {},
   "outputs": [
    {
     "name": "stdout",
     "output_type": "stream",
     "text": [
      "Once  when  a  lion  the  king  of  the  jungle  was  asleep  a  little  mouse  began  running  up  and  down  on  him  This  soon  awakened  the  lion  who  placed  his  huge  paw  on  the  mouse  and  opened  his  big  jaws  to  swallow  him  Pardon  O  King  cried  the  little  mouse  Forgive  me  this  time  I  shall  never  repeat  it  and  I  shall  never  forget  your  kindness  And  who  knows  I  may  be  able  to  do  you  a  good  turn  one  of  these  days  The  lion  was  so  tickled  by  the  idea  of  the  mouse  being  able  to  help  him  that  he  lifted  his  paw  and  let  him  go  Sometime  later  a  few  hunters  captured  the  lion  and  tied  him  to  a  tree  After  that  they  went  in  search  of  a  wagon  to  take  him  to  the  zoo  Just  then  the  little  mouse  happened  to  pass  by  On  seeing  the  lion  s  plight  he  ran  up  to  him  and  gnawed  away  the  ropes  that  bound  him  the  king  of  the  jungle  Was  I  not  right  said  the  little  mouse  very  happy  to  help  the  lion  "
     ]
    }
   ],
   "source": [
    "new_word_list = regex_tokenizer(story)\n",
    "for j in new_word_list:\n",
    "    print(j,\" \", end='')"
   ]
  },
  {
   "cell_type": "markdown",
   "metadata": {},
   "source": [
    "### Sentence Tokenization with NLTK"
   ]
  },
  {
   "cell_type": "code",
   "execution_count": 23,
   "metadata": {},
   "outputs": [
    {
     "name": "stdout",
     "output_type": "stream",
     "text": [
      "Line:  0 :  \n",
      "Once when a lion, the king of the jungle, was asleep, a little mouse began running up and down on him. \n",
      "\n",
      "Line:  1 :  This soon awakened the lion, who placed his huge paw on the mouse, and opened his big jaws to swallow him. \n",
      "\n",
      "Line:  2 :  \"Pardon, O King!\" \n",
      "\n",
      "Line:  3 :  cried the little mouse. \n",
      "\n",
      "Line:  4 :  \"Forgive me this time. \n",
      "\n",
      "Line:  5 :  I shall never repeat it and I shall never forget your kindness. \n",
      "\n",
      "Line:  6 :  And who knows, I may be able to do you a good turn one of these days!”\n",
      "\n",
      "The lion was so tickled by the idea of the mouse being able to help him that he lifted his paw and let him go. \n",
      "\n",
      "Line:  7 :  Sometime later, a few hunters captured the lion, and tied him to a tree. \n",
      "\n",
      "Line:  8 :  After that they went in search of a wagon, to take him to the zoo. \n",
      "\n",
      "Line:  9 :  Just then the little mouse happened to pass by. \n",
      "\n",
      "Line:  10 :  On seeing the lion’s plight, he ran up to him and gnawed away the ropes that bound him, the king of the jungle. \n",
      "\n",
      "Line:  11 :  \"Was I not right?\" \n",
      "\n",
      "Line:  12 :  said the little mouse, very happy to help the lion. \n",
      "\n"
     ]
    }
   ],
   "source": [
    "from nltk.tokenize import sent_tokenize\n",
    "\n",
    "sent_list = sent_tokenize(story)\n",
    "\n",
    "for i,j in enumerate(sent_list):\n",
    "    print(\"Line: \",i,\": \",j,\"\\n\")\n"
   ]
  }
 ],
 "metadata": {
  "kernelspec": {
   "display_name": "Python 3",
   "language": "python",
   "name": "python3"
  },
  "language_info": {
   "codemirror_mode": {
    "name": "ipython",
    "version": 3
   },
   "file_extension": ".py",
   "mimetype": "text/x-python",
   "name": "python",
   "nbconvert_exporter": "python",
   "pygments_lexer": "ipython3",
   "version": "3.6.5"
  }
 },
 "nbformat": 4,
 "nbformat_minor": 2
}
